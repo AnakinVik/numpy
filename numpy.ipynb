{
 "cells": [
  {
   "cell_type": "markdown",
   "metadata": {},
   "source": [
    "# Библиотека numpy. Вычислительные задачи."
   ]
  },
  {
   "cell_type": "markdown",
   "metadata": {},
   "source": [
    "### Задание 1.\n",
    "Создать numpy array с элементами от числа N до 0\n",
    "(например, для N = 10 это будет array([9, 8, 7, 6, 5, 4, 3, 2, 1, 0]))."
   ]
  },
  {
   "cell_type": "code",
   "execution_count": 3,
   "metadata": {},
   "outputs": [
    {
     "name": "stdout",
     "output_type": "stream",
     "text": [
      "Ввести любое целое число: 10\n",
      "[9 8 7 6 5 4 3 2 1 0]\n"
     ]
    }
   ],
   "source": [
    "import numpy as np\n",
    "\n",
    "N = int(input('Ввести любое целое число: '))\n",
    "vector_values = np.arange(N - 1, -1, -1) \n",
    "print(vector_values)"
   ]
  },
  {
   "cell_type": "markdown",
   "metadata": {},
   "source": [
    "### Задание 2.\n",
    "Создать диагональную матрицу с элементами от N до 0. Посчитать сумму ее значений на диагонали."
   ]
  },
  {
   "cell_type": "code",
   "execution_count": 5,
   "metadata": {},
   "outputs": [
    {
     "name": "stdout",
     "output_type": "stream",
     "text": [
      "Ввести любое целое число: 10\n",
      "[[9 0 0 0 0 0 0 0 0 0]\n",
      " [0 8 0 0 0 0 0 0 0 0]\n",
      " [0 0 7 0 0 0 0 0 0 0]\n",
      " [0 0 0 6 0 0 0 0 0 0]\n",
      " [0 0 0 0 5 0 0 0 0 0]\n",
      " [0 0 0 0 0 4 0 0 0 0]\n",
      " [0 0 0 0 0 0 3 0 0 0]\n",
      " [0 0 0 0 0 0 0 2 0 0]\n",
      " [0 0 0 0 0 0 0 0 1 0]\n",
      " [0 0 0 0 0 0 0 0 0 0]]\n",
      "Сумма значений матрицы на диагонали: 45\n"
     ]
    }
   ],
   "source": [
    "import numpy as np\n",
    "\n",
    "N = int(input('Ввести любое целое число: '))\n",
    "vector_values = np.diag(np.arange(N - 1, -1, -1))\n",
    "print(vector_values)\n",
    "print(f'Сумма значений матрицы на диагонали: {vector_values.diagonal().sum()}')"
   ]
  },
  {
   "cell_type": "markdown",
   "metadata": {},
   "source": [
    "### Задание 3.\n",
    "Решите систему уравнений:\n",
    "    \n",
    "4x + 2y + z = 4\n",
    "    \n",
    "x + 3y = 12\n",
    "    \n",
    "5y + 4z = -3"
   ]
  },
  {
   "cell_type": "code",
   "execution_count": 6,
   "metadata": {},
   "outputs": [
    {
     "name": "stdout",
     "output_type": "stream",
     "text": [
      "0.4666666666666668\n",
      "3.844444444444444\n",
      "-5.555555555555555\n"
     ]
    }
   ],
   "source": [
    "from numpy import linalg\n",
    "\n",
    "matrix = np.array([[4, 2, 1], [1, 3, 0], [0, 5, 4]])\n",
    "vector = np.array([4, 12, -3])\n",
    "\n",
    "answers = linalg.solve(matrix, vector)\n",
    "\n",
    "for i in answers:\n",
    "    print(i)"
   ]
  },
  {
   "cell_type": "markdown",
   "metadata": {},
   "source": [
    "### Задание 4. Из предлекционного материала."
   ]
  },
  {
   "cell_type": "code",
   "execution_count": 8,
   "metadata": {},
   "outputs": [
    {
     "name": "stdout",
     "output_type": "stream",
     "text": [
      "Номер посетителя, с максимально схожими покупками: 7\n"
     ]
    }
   ],
   "source": [
    "users_stats = np.array(\n",
    "    [\n",
    "        [2, 1, 0, 0, 0, 0],\n",
    "        [1, 1, 2, 1, 0, 0],\n",
    "        [2, 0, 1, 0, 0, 0],\n",
    "        [1, 1, 2, 1, 0, 1],\n",
    "        [0, 0, 1, 2, 0, 0],\n",
    "        [0, 0, 0, 0, 0, 5],\n",
    "        [1, 0, 0, 0, 0, 0],\n",
    "        [0, 1, 1, 0, 0, 0],\n",
    "        [0, 0, 0, 1, 1, 3],\n",
    "        [1, 0, 0, 2, 1, 4]\n",
    "    ]\n",
    ")\n",
    "\n",
    "\n",
    "# На сайт заходит очередной посетитель, о покупках которого известно следующее:\n",
    "next_user_stats = np.array([0, 1, 2, 0, 0, 0])  \n",
    "\n",
    "\"\"\"Найти самого похожего пользователя.\n",
    "    Т.е. посчитать косинусное сходство между этим пользователем\n",
    "    и всеми пользователями из массива user_stats.\n",
    "\"\"\"\n",
    "lst = []\n",
    "for x in users_stats:\n",
    "    a = np.linalg.norm(x)\n",
    "    b = np.linalg.norm(next_user_stats)\n",
    "    lst.append(np.dot(x, next_user_stats) / (a * b))\n",
    "print(f'Номер посетителя, с максимально схожими покупками: {lst.index(max(lst))}')\n",
    "\n"
   ]
  }
 ],
 "metadata": {
  "kernelspec": {
   "display_name": "Python 3",
   "language": "python",
   "name": "python3"
  },
  "language_info": {
   "codemirror_mode": {
    "name": "ipython",
    "version": 3
   },
   "file_extension": ".py",
   "mimetype": "text/x-python",
   "name": "python",
   "nbconvert_exporter": "python",
   "pygments_lexer": "ipython3",
   "version": "3.8.5"
  }
 },
 "nbformat": 4,
 "nbformat_minor": 4
}
